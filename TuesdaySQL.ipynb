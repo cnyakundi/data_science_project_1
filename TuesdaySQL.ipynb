{
  "nbformat": 4,
  "nbformat_minor": 0,
  "metadata": {
    "colab": {
      "name": "TuesdaySQL.ipynb",
      "provenance": [],
      "authorship_tag": "ABX9TyM+vGeSAyBEV2udAr/QbGzd",
      "include_colab_link": true
    },
    "kernelspec": {
      "name": "python3",
      "display_name": "Python 3"
    },
    "language_info": {
      "name": "python"
    }
  },
  "cells": [
    {
      "cell_type": "markdown",
      "metadata": {
        "id": "view-in-github",
        "colab_type": "text"
      },
      "source": [
        "<a href=\"https://colab.research.google.com/github/cnyakundi/data_science_project_1/blob/master/TuesdaySQL.ipynb\" target=\"_parent\"><img src=\"https://colab.research.google.com/assets/colab-badge.svg\" alt=\"Open In Colab\"/></a>"
      ]
    },
    {
      "cell_type": "code",
      "metadata": {
        "id": "Ax0u2ElCIYgi",
        "colab": {
          "base_uri": "https://localhost:8080/",
          "height": 35
        },
        "outputId": "9bf6d6f3-5b1a-40f7-989c-19e9a51cc3a5"
      },
      "source": [
        "%load_ext sql \n",
        "\n",
        "%sql sqlite://"
      ],
      "execution_count": null,
      "outputs": [
        {
          "output_type": "execute_result",
          "data": {
            "application/vnd.google.colaboratory.intrinsic+json": {
              "type": "string"
            },
            "text/plain": [
              "'Connected: @None'"
            ]
          },
          "metadata": {
            "tags": []
          },
          "execution_count": 2
        }
      ]
    },
    {
      "cell_type": "code",
      "metadata": {
        "id": "vmhubU_3Ind7",
        "colab": {
          "base_uri": "https://localhost:8080/",
          "height": 70
        },
        "outputId": "9329a295-3f19-4537-e2fa-0d8b4e526f7e"
      },
      "source": [
        "%load_ext sql \n",
        "\n",
        "%sql sqlite://"
      ],
      "execution_count": null,
      "outputs": [
        {
          "output_type": "stream",
          "text": [
            "The sql extension is already loaded. To reload it, use:\n",
            "  %reload_ext sql\n"
          ],
          "name": "stdout"
        },
        {
          "output_type": "execute_result",
          "data": {
            "application/vnd.google.colaboratory.intrinsic+json": {
              "type": "string"
            },
            "text/plain": [
              "'Connected: @None'"
            ]
          },
          "metadata": {
            "tags": []
          },
          "execution_count": 3
        }
      ]
    },
    {
      "cell_type": "code",
      "metadata": {
        "id": "V5CSqVDmJoNg"
      },
      "source": [
        "import csv \n",
        "\n",
        "import pandas as pd "
      ],
      "execution_count": null,
      "outputs": []
    },
    {
      "cell_type": "code",
      "metadata": {
        "id": "r5f3mfjfJVUw"
      },
      "source": [
        "with open('lighting_dataset.csv','r') as f:\n",
        "    LightingDataset = pd.read_csv(f, index_col=0, encoding='utf-8')\n",
        "%sql DROP TABLE if EXISTS LightingDataset;\n",
        "%sql PERSIST LightingDataset;\n",
        "%sql SELECT * FROM LightingDataset LIMIT 5;"
      ],
      "execution_count": null,
      "outputs": []
    },
    {
      "cell_type": "code",
      "metadata": {
        "id": "6E3kFuU8Jvpu",
        "colab": {
          "base_uri": "https://localhost:8080/",
          "height": 87
        },
        "outputId": "edcd4c08-979c-49e9-ca3a-c0e51b112d97"
      },
      "source": [
        "with open('energy_mining_dataset.csv','r') as f:\n",
        "    Energy_Mining = pd.read_csv(f, index_col=0, encoding='utf-8')\n",
        "%sql DROP TABLE if EXISTS Energy_Mining;\n",
        "%sql PERSIST Energy_Mining;\n"
      ],
      "execution_count": null,
      "outputs": [
        {
          "output_type": "stream",
          "text": [
            " * sqlite://\n",
            "Done.\n",
            " * sqlite://\n"
          ],
          "name": "stdout"
        },
        {
          "output_type": "execute_result",
          "data": {
            "application/vnd.google.colaboratory.intrinsic+json": {
              "type": "string"
            },
            "text/plain": [
              "'Persisted energy_mining'"
            ]
          },
          "metadata": {
            "tags": []
          },
          "execution_count": 6
        }
      ]
    },
    {
      "cell_type": "code",
      "metadata": {
        "id": "DE97QZFtKF5t",
        "colab": {
          "base_uri": "https://localhost:8080/",
          "height": 87
        },
        "outputId": "7653aad5-a591-4e73-9cd5-9a4461a31330"
      },
      "source": [
        "with open('government_appointments.csv','r') as f:\n",
        "    Appointments = pd.read_csv(f, index_col=0, encoding='utf-8')\n",
        "%sql DROP TABLE if EXISTS Appointments;\n",
        "%sql PERSIST Appointments;\n"
      ],
      "execution_count": null,
      "outputs": [
        {
          "output_type": "stream",
          "text": [
            " * sqlite://\n",
            "Done.\n",
            " * sqlite://\n"
          ],
          "name": "stdout"
        },
        {
          "output_type": "execute_result",
          "data": {
            "application/vnd.google.colaboratory.intrinsic+json": {
              "type": "string"
            },
            "text/plain": [
              "'Persisted appointments'"
            ]
          },
          "metadata": {
            "tags": []
          },
          "execution_count": 7
        }
      ]
    },
    {
      "cell_type": "code",
      "metadata": {
        "id": "x2LAF6P7Kb9I",
        "colab": {
          "base_uri": "https://localhost:8080/",
          "height": 87
        },
        "outputId": "58a8a008-8e4b-40b5-f54f-9039a31028cd"
      },
      "source": [
        "with open('marathon_results_2016.csv','r') as f:\n",
        "    Marathon = pd.read_csv(f, index_col=0, encoding='utf-8')\n",
        "%sql DROP TABLE if EXISTS Marathon;\n",
        "%sql PERSIST Marathon;\n"
      ],
      "execution_count": null,
      "outputs": [
        {
          "output_type": "stream",
          "text": [
            " * sqlite://\n",
            "Done.\n",
            " * sqlite://\n"
          ],
          "name": "stdout"
        },
        {
          "output_type": "execute_result",
          "data": {
            "application/vnd.google.colaboratory.intrinsic+json": {
              "type": "string"
            },
            "text/plain": [
              "'Persisted marathon'"
            ]
          },
          "metadata": {
            "tags": []
          },
          "execution_count": 8
        }
      ]
    },
    {
      "cell_type": "code",
      "metadata": {
        "id": "tNIJyGz2KpP6",
        "colab": {
          "base_uri": "https://localhost:8080/",
          "height": 87
        },
        "outputId": "64d1bb3d-5bb2-4841-f64e-e16d57d6bbd6"
      },
      "source": [
        "with open('population_by_district.csv','r') as f:\n",
        "    Population = pd.read_csv(f, index_col=0, encoding='utf-8')\n",
        "%sql DROP TABLE if EXISTS Population;\n",
        "%sql PERSIST Population;\n"
      ],
      "execution_count": null,
      "outputs": [
        {
          "output_type": "stream",
          "text": [
            " * sqlite://\n",
            "Done.\n",
            " * sqlite://\n"
          ],
          "name": "stdout"
        },
        {
          "output_type": "execute_result",
          "data": {
            "application/vnd.google.colaboratory.intrinsic+json": {
              "type": "string"
            },
            "text/plain": [
              "'Persisted population'"
            ]
          },
          "metadata": {
            "tags": []
          },
          "execution_count": 9
        }
      ]
    },
    {
      "cell_type": "code",
      "metadata": {
        "id": "LOPaC1fKK2g9",
        "colab": {
          "base_uri": "https://localhost:8080/",
          "height": 87
        },
        "outputId": "8834d358-57c0-4809-f299-a702858e45c0"
      },
      "source": [
        "with open('tea_production.csv','r') as f:\n",
        "    Tea_Production = pd.read_csv(f, index_col=0, encoding='utf-8')\n",
        "%sql DROP TABLE if EXISTS Tea_Production;\n",
        "%sql PERSIST Tea_Production;\n"
      ],
      "execution_count": null,
      "outputs": [
        {
          "output_type": "stream",
          "text": [
            " * sqlite://\n",
            "Done.\n",
            " * sqlite://\n"
          ],
          "name": "stdout"
        },
        {
          "output_type": "execute_result",
          "data": {
            "application/vnd.google.colaboratory.intrinsic+json": {
              "type": "string"
            },
            "text/plain": [
              "'Persisted tea_production'"
            ]
          },
          "metadata": {
            "tags": []
          },
          "execution_count": 10
        }
      ]
    },
    {
      "cell_type": "code",
      "metadata": {
        "id": "5x1AWRkhLE-p",
        "colab": {
          "base_uri": "https://localhost:8080/",
          "height": 87
        },
        "outputId": "407ba0aa-10f2-4262-f160-a369044a2732"
      },
      "source": [
        "with open('visitors_to_kenya.csv','r') as f:\n",
        "    Visitors = pd.read_csv(f, index_col=0, encoding='utf-8')\n",
        "%sql DROP TABLE if EXISTS Visitors;\n",
        "%sql PERSIST Visitors;\n"
      ],
      "execution_count": null,
      "outputs": [
        {
          "output_type": "stream",
          "text": [
            " * sqlite://\n",
            "Done.\n",
            " * sqlite://\n"
          ],
          "name": "stdout"
        },
        {
          "output_type": "execute_result",
          "data": {
            "application/vnd.google.colaboratory.intrinsic+json": {
              "type": "string"
            },
            "text/plain": [
              "'Persisted visitors'"
            ]
          },
          "metadata": {
            "tags": []
          },
          "execution_count": 11
        }
      ]
    },
    {
      "cell_type": "code",
      "metadata": {
        "id": "2pQY75SF6Nvt"
      },
      "source": [
        "%%sql \n",
        "\n",
        "SELECT *,  WARD ||   \",\" ||COUNTY AS Region\n",
        "\n",
        "FROM Energy_Mining;"
      ],
      "execution_count": null,
      "outputs": []
    },
    {
      "cell_type": "code",
      "metadata": {
        "id": "N5JRsnfgBTBt"
      },
      "source": [
        "%%sql \n",
        "SELECT PROJECT_NAME, REPLACE(\"STATUS\", '100 % Complete', '100%') AS \"Project Status\"\n",
        "FROM Energy_Mining;"
      ],
      "execution_count": null,
      "outputs": []
    },
    {
      "cell_type": "code",
      "metadata": {
        "id": "79R_OVvE9qxJ"
      },
      "source": [
        "# Example 3\n",
        "# Using the Population by District dataset,\n",
        "# we change values of County column to lowercase \n",
        "# as shown below\n",
        "%%sql\n",
        "SELECT *, LOWER(County) AS Lowered_Population\n",
        "FROM Population;\n",
        "\n"
      ],
      "execution_count": null,
      "outputs": []
    },
    {
      "cell_type": "code",
      "metadata": {
        "id": "Nmc8vTAqJKI0"
      },
      "source": [
        "# Challenge 1\n",
        "# Using the Governments appointments dataset, \n",
        "# in gender field, let's replace m = 1 and f = 0\n",
        "%%sql\n",
        "SELECT *, REPlACE(\"Gender\", 'm', 1 ) OR REPLACE(\"Gender\", 'f',0) as Replaced_gender\n",
        "FROM appointments;"
      ],
      "execution_count": null,
      "outputs": []
    },
    {
      "cell_type": "code",
      "metadata": {
        "id": "w7UNUruaPen9"
      },
      "source": [
        "# Challenge 2\n",
        "# Using the Governments appointments dataset, \n",
        "# Let's merge the person appointing field with the appointers position field\n",
        "#\n",
        "\n",
        "%%sql\n",
        "SELECT *, Persons_Appointed_ || ' ,' || Position_ AS Person_Appointed_AND_Position\n",
        "FROM Appointments\n",
        "LIMIT 5;"
      ],
      "execution_count": null,
      "outputs": []
    },
    {
      "cell_type": "code",
      "metadata": {
        "id": "fOurVzEbRAMv"
      },
      "source": [
        "# Challenge 3\n",
        "# Using the Population by District dataset, \n",
        "# let's change the values of the District column to lowercase \n",
        "# and display these values in a new column \n",
        "\n",
        "%%sql\n",
        "SELECT *, LOWER(District) as District_In_Lower_Case\n",
        "From Population\n",
        "LIMIT 5;"
      ],
      "execution_count": null,
      "outputs": []
    },
    {
      "cell_type": "code",
      "metadata": {
        "id": "3p6JPQ4aWJRZ"
      },
      "source": [
        "# Example 1\n",
        "# You can work with time data just like any other kind of data type \n",
        "# when it is in the time format; HH:MM:SS\n",
        "# Let's answer some questions to see how this works\n",
        "# Question: Which athletes took time between 15.30 and 15.59 to pass the 5K mark?\n",
        "# NB: We order the results\n",
        "\n",
        "%%sql\n",
        "SELECT Name, \"5K\"\n",
        "FROM Marathon\n",
        "\n",
        "WHERE \"5K\" > '0:15:30' AND \"5K\" < '0:15:59'\n",
        "\n",
        "ORDER BY \"5K\" ASC;\n"
      ],
      "execution_count": null,
      "outputs": []
    },
    {
      "cell_type": "code",
      "metadata": {
        "id": "jAntmY_ZXYgD"
      },
      "source": [
        "\n",
        "# Finding the minimum amount of time taken to cover 15K by an athlete during the marathon. \n",
        "# Hint: We use a where clause to ignore null/blank values - we will learn how to \n",
        "# deal with such values later in the course\n",
        "\n",
        "\n",
        "%%sql\n",
        "SELECT MIN(\"5K\")\n",
        "FROM Marathon \n",
        "WHERE \"5K\" >0;\n",
        "\n"
      ],
      "execution_count": null,
      "outputs": []
    },
    {
      "cell_type": "code",
      "metadata": {
        "id": "SmWrI03YXsYA"
      },
      "source": [
        "# What was the average time covered by all athletes past the 10K mark?\n",
        "%%sql\n",
        "SELECT time(AVG(\"10k\"))\n",
        "\n",
        "FROM Marathon;"
      ],
      "execution_count": null,
      "outputs": []
    },
    {
      "cell_type": "code",
      "metadata": {
        "id": "N7Gkm9PMYRqB"
      },
      "source": [
        "# Challenge 1\n",
        "# What were the names and time of the athletes who \n",
        "#finished the marathon before 2hrs 15min official time?\n",
        "# NB: Order your names by time in ascending order\n",
        "\n",
        "%%sql \n",
        "\n",
        "SELECT Name, \"Official Time\" AS \"Less than hours needed\"\n",
        "\n",
        "FROM Marathon \n",
        "\n",
        "WHERE \"Official Time\" < '2:15:00'\n",
        "\n",
        "ORDER BY Name DESC\n",
        "\n",
        "LIMIT 5;\n",
        "\n"
      ],
      "execution_count": null,
      "outputs": []
    },
    {
      "cell_type": "code",
      "metadata": {
        "id": "5NhqWIskafnQ"
      },
      "source": [
        "# Which countries came top 3 in completing the marathon before 2hrs 15min?\n",
        "\n",
        "%%sql\n",
        "SELECT Country\n",
        "\n",
        "FROM Marathon \n",
        "\n",
        "WHERE \"Official Time\" < '2:15:00' \n",
        "\n",
        "ORDER BY Country  ASC\n",
        "\n",
        "LIMIT 3;"
      ],
      "execution_count": null,
      "outputs": []
    },
    {
      "cell_type": "code",
      "metadata": {
        "id": "q1itBb7pbfBr"
      },
      "source": [
        "# How many athletes ran 30K under 1hr 34min? Name these athletes.\n",
        "\n",
        "%%sql \n",
        "\n",
        "SELECT Name, \"30K\"\n",
        "\n",
        "FROM Marathon \n",
        "\n",
        "WHERE \"30K\" < '1:34:00'\n",
        "\n",
        "ORDER BY \"30K\";\n"
      ],
      "execution_count": null,
      "outputs": []
    },
    {
      "cell_type": "code",
      "metadata": {
        "id": "D9BrAOHmcYXk"
      },
      "source": [
        "%%sql\n",
        "SELECT substr('SQL Tutorial', 1, 6) AS ExtractString;"
      ],
      "execution_count": null,
      "outputs": []
    },
    {
      "cell_type": "code",
      "metadata": {
        "id": "eC62lO4NgtTO"
      },
      "source": [
        "# 03/31/2005 12:00:00 AM\n",
        "%%sql\n",
        "SELECT substr(\"Date_End_of_Quater\",7,4 )\n",
        "|| '-' || substr(\"Date_End_of_Quater\", 4,2)\n",
        "|| '-' || substr(\"Date_End_of_Quater\",1,2)\n",
        "|| '-' || substr(\"Date_End_of_Quater\",12,9)\n",
        "AS New_FormartedTable\n",
        "FROM Visitors;\n"
      ],
      "execution_count": null,
      "outputs": []
    },
    {
      "cell_type": "code",
      "metadata": {
        "colab": {
          "base_uri": "https://localhost:8080/"
        },
        "id": "0215tjGfrbih",
        "outputId": "1cb1d5dd-ec66-4803-c699-02fb932d1440"
      },
      "source": [
        "%%sql \n",
        "\n",
        "UPDATE Visitors \n",
        "\n",
        "SET \"Date_End_of_Quater\"= substr(\"Date_End_of_Quater\",7,4 )\n",
        "|| '-' || substr(\"Date_End_of_Quater\", 4,2)\n",
        "|| '-' || substr(\"Date_End_of_Quater\",1,2)\n",
        "|| '-' || substr(\"Date_End_of_Quater\",12,9)"
      ],
      "execution_count": 100,
      "outputs": [
        {
          "output_type": "stream",
          "text": [
            " * sqlite://\n",
            "832 rows affected.\n"
          ],
          "name": "stdout"
        },
        {
          "output_type": "execute_result",
          "data": {
            "text/plain": [
              "[]"
            ]
          },
          "metadata": {
            "tags": []
          },
          "execution_count": 100
        }
      ]
    },
    {
      "cell_type": "code",
      "metadata": {
        "colab": {
          "base_uri": "https://localhost:8080/",
          "height": 200
        },
        "id": "88QiUyrMsZe_",
        "outputId": "e6c7c715-c13c-4cd2-db52-0bcf8091b742"
      },
      "source": [
        "%%sql\n",
        "SELECT * \n",
        "FROM Visitors Limit 5; "
      ],
      "execution_count": 101,
      "outputs": [
        {
          "output_type": "stream",
          "text": [
            " * sqlite://\n",
            "Done.\n"
          ],
          "name": "stdout"
        },
        {
          "output_type": "execute_result",
          "data": {
            "text/html": [
              "<table>\n",
              "    <thead>\n",
              "        <tr>\n",
              "            <th>Arrival_or_Departure</th>\n",
              "            <th>Date_End_of_Quater</th>\n",
              "            <th>Year_Text</th>\n",
              "            <th>No_of_Visitors_to_Kenya</th>\n",
              "            <th>Visitors_by_Purpose</th>\n",
              "            <th>Period_Quater</th>\n",
              "            <th>Results_Status</th>\n",
              "            <th>OBJECTID</th>\n",
              "        </tr>\n",
              "    </thead>\n",
              "    <tbody>\n",
              "        <tr>\n",
              "            <td>Arrivals</td>\n",
              "            <td>2005-31-03-12:00:00 </td>\n",
              "            <td>2005</td>\n",
              "            <td>264600</td>\n",
              "            <td>Visitors on Holiday</td>\n",
              "            <td>Q1</td>\n",
              "            <td>Actual</td>\n",
              "            <td>0</td>\n",
              "        </tr>\n",
              "        <tr>\n",
              "            <td>Arrivals</td>\n",
              "            <td>1991-30-06-12:00:00 </td>\n",
              "            <td>1991</td>\n",
              "            <td>149400</td>\n",
              "            <td>Visitors on Holiday</td>\n",
              "            <td>Q2</td>\n",
              "            <td>Actual</td>\n",
              "            <td>1</td>\n",
              "        </tr>\n",
              "        <tr>\n",
              "            <td>Arrivals</td>\n",
              "            <td>1991-30-09-12:00:00 </td>\n",
              "            <td>1991</td>\n",
              "            <td>215900</td>\n",
              "            <td>Visitors on Holiday</td>\n",
              "            <td>Q3</td>\n",
              "            <td>Actual</td>\n",
              "            <td>2</td>\n",
              "        </tr>\n",
              "        <tr>\n",
              "            <td>Arrivals</td>\n",
              "            <td>1991-31-12-12:00:00 </td>\n",
              "            <td>1991</td>\n",
              "            <td>158400</td>\n",
              "            <td>Visitors on Holiday</td>\n",
              "            <td>Q4</td>\n",
              "            <td>Actual</td>\n",
              "            <td>3</td>\n",
              "        </tr>\n",
              "        <tr>\n",
              "            <td>Arrivals</td>\n",
              "            <td>1992-31-03-12:00:00 </td>\n",
              "            <td>1992</td>\n",
              "            <td>155400</td>\n",
              "            <td>Visitors on Holiday</td>\n",
              "            <td>Q1</td>\n",
              "            <td>Actual</td>\n",
              "            <td>4</td>\n",
              "        </tr>\n",
              "    </tbody>\n",
              "</table>"
            ],
            "text/plain": [
              "[('Arrivals', '2005-31-03-12:00:00 ', '2005', 264600, 'Visitors on Holiday', 'Q1', 'Actual', 0),\n",
              " ('Arrivals', '1991-30-06-12:00:00 ', '1991', 149400, 'Visitors on Holiday', 'Q2', 'Actual', 1),\n",
              " ('Arrivals', '1991-30-09-12:00:00 ', '1991', 215900, 'Visitors on Holiday', 'Q3', 'Actual', 2),\n",
              " ('Arrivals', '1991-31-12-12:00:00 ', '1991', 158400, 'Visitors on Holiday', 'Q4', 'Actual', 3),\n",
              " ('Arrivals', '1992-31-03-12:00:00 ', '1992', 155400, 'Visitors on Holiday', 'Q1', 'Actual', 4)]"
            ]
          },
          "metadata": {
            "tags": []
          },
          "execution_count": 101
        }
      ]
    },
    {
      "cell_type": "code",
      "metadata": {
        "id": "aA02xZh7sdrO"
      },
      "source": [
        "%%sql \n",
        "\n",
        "SELECT * \n",
        "\n",
        "FROM Visitors \n",
        "\n",
        "WHERE \"Date_End_of_Quater\" < '1991-30-9';\n",
        "\n"
      ],
      "execution_count": null,
      "outputs": []
    },
    {
      "cell_type": "code",
      "metadata": {
        "colab": {
          "base_uri": "https://localhost:8080/",
          "height": 95
        },
        "id": "x_rv8AXSuLhj",
        "outputId": "dfb7fa17-7c1e-4bed-a422-99e5312f028a"
      },
      "source": [
        "%%sql \n",
        "\n",
        "SELECT *\n",
        "\n",
        "FROM Visitors \n",
        "\n",
        "WHERE \"Arrival_or_Daparture\" > '2000-06-30' AND \"Arrival_or_Daparture\" ='Arrivals' ;\n",
        "\n",
        "\n"
      ],
      "execution_count": 120,
      "outputs": [
        {
          "output_type": "stream",
          "text": [
            " * sqlite://\n",
            "Done.\n"
          ],
          "name": "stdout"
        },
        {
          "output_type": "execute_result",
          "data": {
            "text/html": [
              "<table>\n",
              "    <thead>\n",
              "        <tr>\n",
              "            <th>Arrival_or_Departure</th>\n",
              "            <th>Date_End_of_Quater</th>\n",
              "            <th>Year_Text</th>\n",
              "            <th>No_of_Visitors_to_Kenya</th>\n",
              "            <th>Visitors_by_Purpose</th>\n",
              "            <th>Period_Quater</th>\n",
              "            <th>Results_Status</th>\n",
              "            <th>OBJECTID</th>\n",
              "        </tr>\n",
              "    </thead>\n",
              "    <tbody>\n",
              "    </tbody>\n",
              "</table>"
            ],
            "text/plain": [
              "[]"
            ]
          },
          "metadata": {
            "tags": []
          },
          "execution_count": 120
        }
      ]
    },
    {
      "cell_type": "code",
      "metadata": {
        "colab": {
          "base_uri": "https://localhost:8080/",
          "height": 137
        },
        "id": "vNlPPPDexE5e",
        "outputId": "4de7f063-dcb5-4e57-ba15-6963be11d6fd"
      },
      "source": [
        "# Using the tea_production dataset, which three dates had tea production \n",
        "# before the date with the most tea production?\n",
        "\n",
        "%%sql \n",
        "\n",
        "SELECT Date,  MAX(\"Millions_in_KGS\")\n",
        "\n",
        "FROM Tea_Production\n",
        "\n",
        "GROUP BY Date\n",
        "\n",
        "LIMIT 3;\n",
        "\n",
        "\n"
      ],
      "execution_count": 126,
      "outputs": [
        {
          "output_type": "stream",
          "text": [
            " * sqlite://\n",
            "Done.\n"
          ],
          "name": "stdout"
        },
        {
          "output_type": "execute_result",
          "data": {
            "text/html": [
              "<table>\n",
              "    <thead>\n",
              "        <tr>\n",
              "            <th>Date</th>\n",
              "            <th>MAX(&quot;Millions_in_KGS&quot;)</th>\n",
              "        </tr>\n",
              "    </thead>\n",
              "    <tbody>\n",
              "        <tr>\n",
              "            <td>01/25/2003 12:00:00 AM</td>\n",
              "            <td>Millions_in_KGS</td>\n",
              "        </tr>\n",
              "        <tr>\n",
              "            <td>01/25/2004 12:00:00 AM</td>\n",
              "            <td>Millions_in_KGS</td>\n",
              "        </tr>\n",
              "        <tr>\n",
              "            <td>01/25/2005 12:00:00 AM</td>\n",
              "            <td>Millions_in_KGS</td>\n",
              "        </tr>\n",
              "    </tbody>\n",
              "</table>"
            ],
            "text/plain": [
              "[('01/25/2003 12:00:00 AM', 'Millions_in_KGS'),\n",
              " ('01/25/2004 12:00:00 AM', 'Millions_in_KGS'),\n",
              " ('01/25/2005 12:00:00 AM', 'Millions_in_KGS')]"
            ]
          },
          "metadata": {
            "tags": []
          },
          "execution_count": 126
        }
      ]
    }
  ]
}