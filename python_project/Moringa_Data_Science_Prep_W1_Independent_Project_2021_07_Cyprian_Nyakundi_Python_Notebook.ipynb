{
  "nbformat": 4,
  "nbformat_minor": 0,
  "metadata": {
    "colab": {
      "name": "Moringa_Data_Science_Prep_W1_Independent_Project_2021_07_Cyprian_Nyakundi_Python_Notebook.ipynb",
      "provenance": [],
      "collapsed_sections": [],
      "authorship_tag": "ABX9TyOcYWB1fJRz5yS4dBHRjrf7",
      "include_colab_link": true
    },
    "kernelspec": {
      "name": "python3",
      "display_name": "Python 3"
    },
    "language_info": {
      "name": "python"
    }
  },
  "cells": [
    {
      "cell_type": "markdown",
      "metadata": {
        "id": "view-in-github",
        "colab_type": "text"
      },
      "source": [
        "<a href=\"https://colab.research.google.com/github/cnyakundi/data_science_project_1/blob/master/python_project/Moringa_Data_Science_Prep_W1_Independent_Project_2021_07_Cyprian_Nyakundi_Python_Notebook.ipynb\" target=\"_parent\"><img src=\"https://colab.research.google.com/assets/colab-badge.svg\" alt=\"Open In Colab\"/></a>"
      ]
    },
    {
      "cell_type": "code",
      "metadata": {
        "id": "ok8k8O8TXqNr"
      },
      "source": [
        "# Converting pounds to kilogram using user input \n",
        "# 1 pound equals 0.453592 kilograms \n",
        "\n",
        "print(\"_____________________________________________________________________\")\n",
        "\n",
        "\n",
        "print(\"Enter the the first value in pounds you need to convert into Kilograms\")\n",
        "# We have to convert the input into integers because all inputs are strings\n",
        "pounds_1=int(input())\n",
        "\n",
        "print(\"Enter the the second  value in pounds you need to convert into Kilograms\")\n",
        "pounds_2=int(input())\n",
        "\n",
        "total_pounds= pounds_1+pounds_2\n",
        "\n",
        "final_answer=total_pounds* 0.453592\n",
        "\n",
        "converted_results= f\"You entered {total_pounds} pounds that convert into \\\n",
        " {final_answer} Kilograms. Good day!\"\n",
        "\n",
        "print(converted_results)"
      ],
      "execution_count": null,
      "outputs": []
    },
    {
      "cell_type": "code",
      "metadata": {
        "id": "4myYojC3X1OU"
      },
      "source": [
        "# Sum of the values \n",
        "\n",
        "sum_of_the_values= pounds_1 + pounds_2\n",
        "\n",
        "print(sum_of_the_values)"
      ],
      "execution_count": null,
      "outputs": []
    },
    {
      "cell_type": "code",
      "metadata": {
        "id": "4CvmpCUKYGqP"
      },
      "source": [
        "#Average of the values \n",
        "\n",
        "average_of_the_values= pounds_1/2 + pounds_2/2\n",
        "\n",
        "print(average_of_the_values)"
      ],
      "execution_count": null,
      "outputs": []
    },
    {
      "cell_type": "code",
      "metadata": {
        "id": "ZgldW3XOYJ-S"
      },
      "source": [
        "# Differences between the two values \n",
        "\n",
        "\n",
        "if pounds_1 > pounds_2:\n",
        "  print(\"The difference is \" + str(pounds_1-pounds_2))\n",
        "elif pounds_2 > pounds_1:\n",
        "  print(\"The difference is \" + str(pounds_2-pounds_1))\n",
        "else:\n",
        "  print(\"These values are equal \")"
      ],
      "execution_count": null,
      "outputs": []
    },
    {
      "cell_type": "code",
      "metadata": {
        "id": "dY9k2S_nYSvO"
      },
      "source": [
        "#Quotient \n",
        "\n",
        "# We use the double slash to get quotient\n",
        "\n",
        "\n",
        "\n",
        "quotient = pounds_1//pounds_2\n",
        "\n",
        "print(quotient)"
      ],
      "execution_count": null,
      "outputs": []
    },
    {
      "cell_type": "code",
      "metadata": {
        "id": "Kj9CKdZPYdHY"
      },
      "source": [
        "#Testing even or Odd  for pounds 1 \n",
        "\n",
        "if pounds_1 % 2 == 0:\n",
        "  print(\"The number is even\")\n",
        "else:\n",
        "  print(\"The number is odd\")"
      ],
      "execution_count": null,
      "outputs": []
    },
    {
      "cell_type": "code",
      "metadata": {
        "id": "PD2--HeFYej1"
      },
      "source": [
        "#Testing even or Odd  for pounds 2\n",
        "\n",
        "if pounds_2 % 2 == 0:\n",
        "  print(\"The number is even\")\n",
        "else:\n",
        "  print(\"The number is odd\")"
      ],
      "execution_count": null,
      "outputs": []
    }
  ]
}